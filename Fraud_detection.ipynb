{
 "cells": [
  {
   "cell_type": "code",
   "execution_count": 2,
   "id": "ea2f3c95-c264-41f9-98e8-703f3e97bc62",
   "metadata": {},
   "outputs": [
    {
     "data": {
      "text/html": [
       "<div>\n",
       "<style scoped>\n",
       "    .dataframe tbody tr th:only-of-type {\n",
       "        vertical-align: middle;\n",
       "    }\n",
       "\n",
       "    .dataframe tbody tr th {\n",
       "        vertical-align: top;\n",
       "    }\n",
       "\n",
       "    .dataframe thead th {\n",
       "        text-align: right;\n",
       "    }\n",
       "</style>\n",
       "<table border=\"1\" class=\"dataframe\">\n",
       "  <thead>\n",
       "    <tr style=\"text-align: right;\">\n",
       "      <th></th>\n",
       "      <th>step</th>\n",
       "      <th>customer</th>\n",
       "      <th>age</th>\n",
       "      <th>gender</th>\n",
       "      <th>zipcodeOri</th>\n",
       "      <th>merchant</th>\n",
       "      <th>zipMerchant</th>\n",
       "      <th>category</th>\n",
       "      <th>amount</th>\n",
       "      <th>fraud</th>\n",
       "    </tr>\n",
       "  </thead>\n",
       "  <tbody>\n",
       "    <tr>\n",
       "      <th>0</th>\n",
       "      <td>11</td>\n",
       "      <td>'C1760492708'</td>\n",
       "      <td>'1'</td>\n",
       "      <td>'F'</td>\n",
       "      <td>'28007'</td>\n",
       "      <td>'M1823072687'</td>\n",
       "      <td>'28007'</td>\n",
       "      <td>'es_transportation'</td>\n",
       "      <td>52.35</td>\n",
       "      <td>0</td>\n",
       "    </tr>\n",
       "    <tr>\n",
       "      <th>1</th>\n",
       "      <td>172</td>\n",
       "      <td>'C1222389110'</td>\n",
       "      <td>'3'</td>\n",
       "      <td>'M'</td>\n",
       "      <td>'28007'</td>\n",
       "      <td>'M1823072687'</td>\n",
       "      <td>'28007'</td>\n",
       "      <td>'es_transportation'</td>\n",
       "      <td>14.75</td>\n",
       "      <td>0</td>\n",
       "    </tr>\n",
       "    <tr>\n",
       "      <th>2</th>\n",
       "      <td>106</td>\n",
       "      <td>'C879949041'</td>\n",
       "      <td>'3'</td>\n",
       "      <td>'F'</td>\n",
       "      <td>'28007'</td>\n",
       "      <td>'M1823072687'</td>\n",
       "      <td>'28007'</td>\n",
       "      <td>'es_transportation'</td>\n",
       "      <td>3.73</td>\n",
       "      <td>0</td>\n",
       "    </tr>\n",
       "    <tr>\n",
       "      <th>3</th>\n",
       "      <td>86</td>\n",
       "      <td>'C409740988'</td>\n",
       "      <td>'5'</td>\n",
       "      <td>'M'</td>\n",
       "      <td>'28007'</td>\n",
       "      <td>'M1823072687'</td>\n",
       "      <td>'28007'</td>\n",
       "      <td>'es_transportation'</td>\n",
       "      <td>61.42</td>\n",
       "      <td>0</td>\n",
       "    </tr>\n",
       "    <tr>\n",
       "      <th>4</th>\n",
       "      <td>152</td>\n",
       "      <td>'C671449181'</td>\n",
       "      <td>'3'</td>\n",
       "      <td>'F'</td>\n",
       "      <td>'28007'</td>\n",
       "      <td>'M692898500'</td>\n",
       "      <td>'28007'</td>\n",
       "      <td>'es_health'</td>\n",
       "      <td>9.05</td>\n",
       "      <td>0</td>\n",
       "    </tr>\n",
       "  </tbody>\n",
       "</table>\n",
       "</div>"
      ],
      "text/plain": [
       "   step       customer  age gender zipcodeOri       merchant zipMerchant  \\\n",
       "0    11  'C1760492708'  '1'    'F'    '28007'  'M1823072687'     '28007'   \n",
       "1   172  'C1222389110'  '3'    'M'    '28007'  'M1823072687'     '28007'   \n",
       "2   106   'C879949041'  '3'    'F'    '28007'  'M1823072687'     '28007'   \n",
       "3    86   'C409740988'  '5'    'M'    '28007'  'M1823072687'     '28007'   \n",
       "4   152   'C671449181'  '3'    'F'    '28007'   'M692898500'     '28007'   \n",
       "\n",
       "              category  amount  fraud  \n",
       "0  'es_transportation'   52.35      0  \n",
       "1  'es_transportation'   14.75      0  \n",
       "2  'es_transportation'    3.73      0  \n",
       "3  'es_transportation'   61.42      0  \n",
       "4          'es_health'    9.05      0  "
      ]
     },
     "execution_count": 2,
     "metadata": {},
     "output_type": "execute_result"
    }
   ],
   "source": [
    "import pandas as pd\n",
    "\n",
    "# Load the training dataset\n",
    "df = pd.read_csv(\"Dataset.csv\")\n",
    "\n",
    "# Show the first few rows\n",
    "df.head()\n"
   ]
  },
  {
   "cell_type": "code",
   "execution_count": 3,
   "id": "bbccd644-141e-417d-9e30-1c7c729f73b0",
   "metadata": {},
   "outputs": [
    {
     "name": "stdout",
     "output_type": "stream",
     "text": [
      "Shape of dataset: (535178, 10)\n",
      "\n",
      "Data types and non-null values:\n",
      "<class 'pandas.core.frame.DataFrame'>\n",
      "RangeIndex: 535178 entries, 0 to 535177\n",
      "Data columns (total 10 columns):\n",
      " #   Column       Non-Null Count   Dtype  \n",
      "---  ------       --------------   -----  \n",
      " 0   step         535178 non-null  int64  \n",
      " 1   customer     535178 non-null  object \n",
      " 2   age          535178 non-null  object \n",
      " 3   gender       535178 non-null  object \n",
      " 4   zipcodeOri   535178 non-null  object \n",
      " 5   merchant     535178 non-null  object \n",
      " 6   zipMerchant  535178 non-null  object \n",
      " 7   category     535178 non-null  object \n",
      " 8   amount       535178 non-null  float64\n",
      " 9   fraud        535178 non-null  int64  \n",
      "dtypes: float64(1), int64(2), object(7)\n",
      "memory usage: 40.8+ MB\n",
      "None\n",
      "\n",
      "Missing values:\n",
      "step           0\n",
      "customer       0\n",
      "age            0\n",
      "gender         0\n",
      "zipcodeOri     0\n",
      "merchant       0\n",
      "zipMerchant    0\n",
      "category       0\n",
      "amount         0\n",
      "fraud          0\n",
      "dtype: int64\n"
     ]
    }
   ],
   "source": [
    "# Basic info\n",
    "print(\"Shape of dataset:\", df.shape)\n",
    "print(\"\\nData types and non-null values:\")\n",
    "print(df.info())\n",
    "\n",
    "# Check for missing values\n",
    "print(\"\\nMissing values:\")\n",
    "print(df.isnull().sum())\n"
   ]
  },
  {
   "cell_type": "code",
   "execution_count": 4,
   "id": "8f9c3a7f-3b34-4f85-8f4e-c64c77bbdf99",
   "metadata": {},
   "outputs": [
    {
     "name": "stdout",
     "output_type": "stream",
     "text": [
      "step → Unique: 180 → Sample: [ 11 172 106  86 152]\n",
      "customer → Unique: 4112 → Sample: [\"'C1760492708'\" \"'C1222389110'\" \"'C879949041'\" \"'C409740988'\"\n",
      " \"'C671449181'\"]\n",
      "age → Unique: 8 → Sample: [\"'1'\" \"'3'\" \"'5'\" \"'2'\" \"'4'\"]\n",
      "gender → Unique: 4 → Sample: [\"'F'\" \"'M'\" \"'E'\" \"'U'\"]\n",
      "zipcodeOri → Unique: 1 → Sample: [\"'28007'\"]\n",
      "merchant → Unique: 50 → Sample: [\"'M1823072687'\" \"'M692898500'\" \"'M348934600'\" \"'M1600850729'\"\n",
      " \"'M1946091778'\"]\n",
      "zipMerchant → Unique: 1 → Sample: [\"'28007'\"]\n",
      "category → Unique: 15 → Sample: [\"'es_transportation'\" \"'es_health'\" \"'es_fashion'\"\n",
      " \"'es_wellnessandbeauty'\" \"'es_food'\"]\n",
      "amount → Unique: 22796 → Sample: [52.35 14.75  3.73 61.42  9.05]\n",
      "fraud → Unique: 2 → Sample: [0 1]\n"
     ]
    }
   ],
   "source": [
    "# Check unique values in each column\n",
    "for col in df.columns:\n",
    "    print(f\"{col} → Unique: {df[col].nunique()} → Sample: {df[col].unique()[:5]}\")\n"
   ]
  },
  {
   "cell_type": "code",
   "execution_count": 6,
   "id": "264d75cc-2f92-46b8-82bb-356029872fca",
   "metadata": {},
   "outputs": [
    {
     "name": "stdout",
     "output_type": "stream",
     "text": [
      "\n",
      "Fraud distribution:\n",
      "fraud\n",
      "0    528686\n",
      "1      6492\n",
      "Name: count, dtype: int64\n"
     ]
    },
    {
     "data": {
      "image/png": "[encoded data removed]",
      "text/plain": [
       "<Figure size 640x480 with 1 Axes>"
      ]
     },
     "metadata": {},
     "output_type": "display_data"
    }
   ],
   "source": [
    "# Class balance check\n",
    "print(\"\\nFraud distribution:\")\n",
    "print(df['fraud'].value_counts())\n",
    "\n",
    "# Plot it\n",
    "import seaborn as sns\n",
    "import matplotlib.pyplot as plt\n",
    "\n",
    "sns.countplot(x='fraud', data=df)\n",
    "plt.title('Fraud (1) vs Non-Fraud (0)')\n",
    "plt.show()\n"
   ]
  },
  {
   "cell_type": "code",
   "execution_count": 7,
   "id": "d89fb182-58a4-4d61-82dc-207b49209e6c",
   "metadata": {},
   "outputs": [
    {
     "data": {
      "text/html": [
       "<div>\n",
       "<style scoped>\n",
       "    .dataframe tbody tr th:only-of-type {\n",
       "        vertical-align: middle;\n",
       "    }\n",
       "\n",
       "    .dataframe tbody tr th {\n",
       "        vertical-align: top;\n",
       "    }\n",
       "\n",
       "    .dataframe thead th {\n",
       "        text-align: right;\n",
       "    }\n",
       "</style>\n",
       "<table border=\"1\" class=\"dataframe\">\n",
       "  <thead>\n",
       "    <tr style=\"text-align: right;\">\n",
       "      <th></th>\n",
       "      <th>step</th>\n",
       "      <th>amount</th>\n",
       "      <th>fraud</th>\n",
       "    </tr>\n",
       "  </thead>\n",
       "  <tbody>\n",
       "    <tr>\n",
       "      <th>count</th>\n",
       "      <td>535178.000000</td>\n",
       "      <td>535178.000000</td>\n",
       "      <td>535178.000000</td>\n",
       "    </tr>\n",
       "    <tr>\n",
       "      <th>mean</th>\n",
       "      <td>94.982225</td>\n",
       "      <td>37.945166</td>\n",
       "      <td>0.012131</td>\n",
       "    </tr>\n",
       "    <tr>\n",
       "      <th>std</th>\n",
       "      <td>51.056459</td>\n",
       "      <td>112.585244</td>\n",
       "      <td>0.109469</td>\n",
       "    </tr>\n",
       "    <tr>\n",
       "      <th>min</th>\n",
       "      <td>0.000000</td>\n",
       "      <td>0.000000</td>\n",
       "      <td>0.000000</td>\n",
       "    </tr>\n",
       "    <tr>\n",
       "      <th>25%</th>\n",
       "      <td>52.000000</td>\n",
       "      <td>13.730000</td>\n",
       "      <td>0.000000</td>\n",
       "    </tr>\n",
       "    <tr>\n",
       "      <th>50%</th>\n",
       "      <td>97.000000</td>\n",
       "      <td>26.900000</td>\n",
       "      <td>0.000000</td>\n",
       "    </tr>\n",
       "    <tr>\n",
       "      <th>75%</th>\n",
       "      <td>139.000000</td>\n",
       "      <td>42.570000</td>\n",
       "      <td>0.000000</td>\n",
       "    </tr>\n",
       "    <tr>\n",
       "      <th>max</th>\n",
       "      <td>179.000000</td>\n",
       "      <td>8329.960000</td>\n",
       "      <td>1.000000</td>\n",
       "    </tr>\n",
       "  </tbody>\n",
       "</table>\n",
       "</div>"
      ],
      "text/plain": [
       "                step         amount          fraud\n",
       "count  535178.000000  535178.000000  535178.000000\n",
       "mean       94.982225      37.945166       0.012131\n",
       "std        51.056459     112.585244       0.109469\n",
       "min         0.000000       0.000000       0.000000\n",
       "25%        52.000000      13.730000       0.000000\n",
       "50%        97.000000      26.900000       0.000000\n",
       "75%       139.000000      42.570000       0.000000\n",
       "max       179.000000    8329.960000       1.000000"
      ]
     },
     "execution_count": 7,
     "metadata": {},
     "output_type": "execute_result"
    }
   ],
   "source": [
    "# Basic statistics\n",
    "df.describe()\n"
   ]
  },
  {
   "cell_type": "markdown",
   "id": "f21bb518-7aa4-48b0-a87d-c94001fb6419",
   "metadata": {},
   "source": [
    "## Step 2: Data Cleaning & Analysis\n",
    "\n",
    "We examined the dataset’s shape, missing values, and class imbalance.  \n",
    "The target column `isFraud` is highly imbalanced, with far more non-fraudulent transactions.  \n",
    "This will help us decide how to handle the imbalance during modeling.\n"
   ]
  },
  {
   "cell_type": "markdown",
   "id": "eedb4764-20d2-4914-88b3-57de65d203ef",
   "metadata": {},
   "source": [
    "## 🔍 Data Visualization: Understanding the Dataset\n"
   ]
  },
  {
   "cell_type": "code",
   "execution_count": 14,
   "id": "35cb1a04-86ab-4942-a878-357381c5f90d",
   "metadata": {},
   "outputs": [
    {
     "data": {
      "image/png": "[encoded data removed]",
      "text/plain": [
       "<Figure size 640x480 with 1 Axes>"
      ]
     },
     "metadata": {},
     "output_type": "display_data"
    },
    {
     "data": {
      "image/png": "[encoded data removed]",
      "text/plain": [
       "<Figure size 640x480 with 1 Axes>"
      ]
     },
     "metadata": {},
     "output_type": "display_data"
    },
    {
     "data": {
      "image/png": "[encoded data removed]",
      "text/plain": [
       "<Figure size 640x480 with 1 Axes>"
      ]
     },
     "metadata": {},
     "output_type": "display_data"
    }
   ],
   "source": [
    "import seaborn as sns\n",
    "import matplotlib.pyplot as plt\n",
    "\n",
    "# Fraud vs Non-Fraud\n",
    "sns.countplot(data=df_cleaned, x='fraud')\n",
    "plt.title(\"Fraud vs Non-Fraud Transactions\")\n",
    "plt.show()\n",
    "\n",
    "# Boxplot for Amount\n",
    "sns.boxplot(x='fraud', y='amount', data=df_cleaned)\n",
    "plt.title(\"Transaction Amount by Fraud Status\")\n",
    "plt.show()\n",
    "\n",
    "# Category vs Fraud\n",
    "sns.countplot(x='category', hue='fraud', data=df_cleaned)\n",
    "plt.title(\"Category-wise Fraud Count\")\n",
    "plt.show()\n"
   ]
  },
  {
   "cell_type": "markdown",
   "id": "fe23bdb2-b128-4e4d-9cff-9ca6b8710473",
   "metadata": {},
   "source": [
    "## 📌 Insights from Data\n",
    "\n",
    "- Majority of transactions are non-fraudulent.\n",
    "- Categories 2, 6, and 11 have higher fraud concentration.\n",
    "- Fraud transactions tend to have slightly extreme or smaller amounts.\n",
    "- Gender 2 seems more frequently involved in fraud cases.\n"
   ]
  },
  {
   "cell_type": "code",
   "execution_count": 9,
   "id": "ecd2ccf0-343a-4910-b946-ef2e9e94962c",
   "metadata": {},
   "outputs": [
    {
     "name": "stdout",
     "output_type": "stream",
     "text": [
      "   step  age  gender  category  amount  fraud\n",
      "0    11    1       1        12   52.35      0\n",
      "1   172    3       2        12   14.75      0\n",
      "2   106    3       1        12    3.73      0\n",
      "3    86    5       2        12   61.42      0\n",
      "4   152    3       1         4    9.05      0\n"
     ]
    }
   ],
   "source": [
    "import pandas as pd\n",
    "from sklearn.preprocessing import LabelEncoder\n",
    "\n",
    "# Load the dataset\n",
    "df = pd.read_csv(\"Dataset.csv\")\n",
    "\n",
    "# Step 1: Drop irrelevant columns\n",
    "df_cleaned = df.drop(columns=['customer', 'merchant', 'zipcodeOri', 'zipMerchant'])\n",
    "\n",
    "# Step 2: Clean categorical text fields\n",
    "for col in ['age', 'gender', 'category']:\n",
    "    df_cleaned[col] = df_cleaned[col].str.replace(\"'\", \"\").str.strip()\n",
    "\n",
    "# Step 3: Encode categorical variables\n",
    "le = LabelEncoder()\n",
    "for col in ['age', 'gender', 'category']:\n",
    "    df_cleaned[col] = le.fit_transform(df_cleaned[col])\n",
    "\n",
    "# Step 4: Show the cleaned data\n",
    "print(df_cleaned.head())\n"
   ]
  },
  {
   "cell_type": "markdown",
   "id": "2b9472e5-780d-43ee-bebd-a27d7eabccd6",
   "metadata": {},
   "source": [
    "Step 3:Feature Selection\n",
    "❌ Removed columns that are just unique IDs (customer, merchant, zipcodeOri, zipMerchant).\n",
    "\n",
    "🔤 Encoded categorical data (age, gender, category) into numbers using Label Encoding.\n",
    "\n",
    "✅ Kept only useful features: step, age, gender, category, amount, and fraud.\n",
    "\n"
   ]
  },
  {
   "cell_type": "code",
   "execution_count": null,
   "id": "f3b4e877-7121-4c4d-a1e4-b6982ad2f418",
   "metadata": {},
   "outputs": [
    {
     "name": "stdout",
     "output_type": "stream",
     "text": [
      "📊 Classification Report:\n",
      "\n",
      "              precision    recall  f1-score   support\n",
      "\n",
      "           0       1.00      1.00      1.00    105723\n",
      "           1       0.87      0.65      0.74      1313\n",
      "\n",
      "    accuracy                           0.99    107036\n",
      "   macro avg       0.93      0.82      0.87    107036\n",
      "weighted avg       0.99      0.99      0.99    107036\n",
      "\n",
      "🎯 AUC-ROC Score: 0.9681613023165575\n"
     ]
    }
   ],
   "source": [
    "\n",
    "\n",
    "\n",
    "from sklearn.model_selection import train_test_split\n",
    "from sklearn.ensemble import RandomForestClassifier\n",
    "from sklearn.metrics import classification_report, roc_auc_score\n",
    "\n",
    "# Step 1: Separate input (X) and output (y)\n",
    "X = df_cleaned.drop(\"fraud\", axis=1)  # features\n",
    "y = df_cleaned[\"fraud\"]               # target\n",
    "\n",
    "# Step 2: Split the data (80% train, 20% test)\n",
    "X_train, X_test, y_train, y_test = train_test_split(X, y, test_size=0.2, random_state=42)\n",
    "\n",
    "# Step 3: Build and train the model\n",
    "model = RandomForestClassifier(n_estimators=100, random_state=42)\n",
    "model.fit(X_train, y_train)\n",
    "\n",
    "# Step 4: Predict and evaluate\n",
    "y_pred = model.predict(X_test)\n",
    "y_proba = model.predict_proba(X_test)[:, 1]  # For AUC\n",
    "\n",
    "# Step 5: Show evaluation metrics\n",
    "print(\"📊 Classification Report:\\n\")\n",
    "print(classification_report(y_test, y_pred))\n",
    "\n",
    "print(\"🎯 AUC-ROC Score:\", roc_auc_score(y_test, y_proba))\n"
   ]
  },
  {
   "cell_type": "code",
   "execution_count": null,
   "id": "12617a7f-b000-4f29-85ae-03b26ee9a2c4",
   "metadata": {},
   "outputs": [],
   "source": []
  }
 ],
 "metadata": {
  "kernelspec": {
   "display_name": "Python 3 (ipykernel)",
   "language": "python",
   "name": "python3"
  },
  "language_info": {
   "codemirror_mode": {
    "name": "ipython",
    "version": 3
   },
   "file_extension": ".py",
   "mimetype": "text/x-python",
   "name": "python",
   "nbconvert_exporter": "python",
   "pygments_lexer": "ipython3",
   "version": "3.10.7"
  }
 },
 "nbformat": 4,
 "nbformat_minor": 5
}
